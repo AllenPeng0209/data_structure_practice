{
 "cells": [
  {
   "cell_type": "code",
   "execution_count": 99,
   "metadata": {
    "collapsed": true
   },
   "outputs": [],
   "source": [
    "class Node:\n",
    "    def __init__(self,data):\n",
    "        self.data = data\n",
    "        self.left_child = None\n",
    "        self.right_child = None\n",
    "    def insert(self,data):\n",
    "        if self.data == data:\n",
    "            return False\n",
    "        elif self.data > data:\n",
    "            if self.left_child:\n",
    "                return self.left_child.insert(data)\n",
    "            else:\n",
    "                self.left_child = Node(data)\n",
    "        elif self.data < data:\n",
    "            if self.right_child:\n",
    "                return self.right_child.insert(data)\n",
    "            else: \n",
    "                self.right_child = Node(data)\n",
    "    def find(self, data):\n",
    "        if self.data == data:\n",
    "            print(\"found\")\n",
    "            \n",
    "        elif self.data > data:\n",
    "            if self.left_child:\n",
    "                return self.left_child.find(data)\n",
    "            else:\n",
    "                print(\"not found\")\n",
    "        elif self.data < data:\n",
    "            if self.right_child:\n",
    "                return self.right_child.find(data)\n",
    "            else:\n",
    "                print(\"not found\")\n",
    "    def preorder(self):\n",
    "        if self:\n",
    "            print(self.data)\n",
    "            if self.left_child:\n",
    "                self.left_child.preorder()\n",
    "            if self.right_child:\n",
    "                self.right_child.preorder()\n",
    "    def postorder(self):\n",
    "        if self:\n",
    "            if self.left_child:\n",
    "                self.left_child.preorder()\n",
    "            if self.right_child:\n",
    "                self.right_child.preorder()\n",
    "            print(self.data)\n",
    "    def inorder(self):\n",
    "         if self:\n",
    "            if self.left_child:\n",
    "                self.left_child.preorder()\n",
    "            print(self.data)\n",
    "            if self.right_child:\n",
    "                self.right_child.preorder()\n",
    "            "
   ]
  },
  {
   "cell_type": "code",
   "execution_count": 110,
   "metadata": {},
   "outputs": [],
   "source": [
    "class Binary_tree:\n",
    "    def __init__(self):\n",
    "        self.root = None\n",
    "    def insert(self, data):\n",
    "        if self.root:\n",
    "            self.root.insert(data)\n",
    "        else:\n",
    "            self.root = Node(data)\n",
    "    def find(self, data):\n",
    "        if self.root:\n",
    "            return self.root.find(data)\n",
    "        else:\n",
    "            return False\n",
    "    def preorder(self):\n",
    "        print(\"preorder\")\n",
    "        self.root.preorder()\n",
    "    def postorder(self):\n",
    "        print(\"postorder\")\n",
    "        self.root.postorder()\n",
    "    def inorder(self):\n",
    "        print(\"inorder\")\n",
    "        self.root.inorder()"
   ]
  },
  {
   "cell_type": "code",
   "execution_count": 111,
   "metadata": {},
   "outputs": [],
   "source": [
    "a = Binary_tree()"
   ]
  },
  {
   "cell_type": "code",
   "execution_count": 124,
   "metadata": {},
   "outputs": [],
   "source": [
    "a.insert(5)\n",
    "a.insert(7)\n",
    "a.insert(6)\n",
    "a.insert(3)\n",
    "a.insert(4)\n",
    "a.insert(2)\n",
    "a.insert(1)\n",
    "a.insert(9)"
   ]
  },
  {
   "cell_type": "code",
   "execution_count": 125,
   "metadata": {},
   "outputs": [
    {
     "name": "stdout",
     "output_type": "stream",
     "text": [
      "2\n",
      "1\n",
      "3\n",
      "4\n",
      "5\n",
      "7\n",
      "6\n",
      "9\n"
     ]
    }
   ],
   "source": [
    "a.root.preorder()"
   ]
  },
  {
   "cell_type": "code",
   "execution_count": null,
   "metadata": {
    "collapsed": true
   },
   "outputs": [],
   "source": []
  },
  {
   "cell_type": "code",
   "execution_count": null,
   "metadata": {},
   "outputs": [],
   "source": []
  },
  {
   "cell_type": "code",
   "execution_count": null,
   "metadata": {},
   "outputs": [],
   "source": []
  },
  {
   "cell_type": "code",
   "execution_count": null,
   "metadata": {},
   "outputs": [],
   "source": []
  },
  {
   "cell_type": "code",
   "execution_count": null,
   "metadata": {
    "collapsed": true
   },
   "outputs": [],
   "source": []
  },
  {
   "cell_type": "code",
   "execution_count": null,
   "metadata": {
    "collapsed": true
   },
   "outputs": [],
   "source": []
  },
  {
   "cell_type": "code",
   "execution_count": null,
   "metadata": {
    "collapsed": true
   },
   "outputs": [],
   "source": []
  },
  {
   "cell_type": "code",
   "execution_count": null,
   "metadata": {
    "collapsed": true
   },
   "outputs": [],
   "source": []
  }
 ],
 "metadata": {
  "kernelspec": {
   "display_name": "Python 3",
   "language": "python",
   "name": "python3"
  },
  "language_info": {
   "codemirror_mode": {
    "name": "ipython",
    "version": 3
   },
   "file_extension": ".py",
   "mimetype": "text/x-python",
   "name": "python",
   "nbconvert_exporter": "python",
   "pygments_lexer": "ipython3",
   "version": "3.6.3"
  }
 },
 "nbformat": 4,
 "nbformat_minor": 2
}
