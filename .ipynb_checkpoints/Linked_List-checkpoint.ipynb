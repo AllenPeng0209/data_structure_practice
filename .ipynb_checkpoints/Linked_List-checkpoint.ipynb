{
 "cells": [
  {
   "cell_type": "code",
   "execution_count": 2,
   "metadata": {},
   "outputs": [
    {
     "name": "stdout",
     "output_type": "stream",
     "text": [
      " Node 1 Node 2 Node 3 Node 4\n",
      " Node 1 Node 2 Node 4\n",
      " Node 2 Node 4\n"
     ]
    }
   ],
   "source": [
    "class Node(object):\n",
    "    def __init__(self, value):\n",
    "        self.value = value\n",
    "        self.next = None\n",
    "\n",
    "    def __repr__(self):\n",
    "        return 'Node %s' % self.value\n",
    "\n",
    "\n",
    "class LinkedList(object):\n",
    "    def __init__(self):\n",
    "        self.head = None\n",
    "        self.tail = None\n",
    "\n",
    "    def __repr__(self):\n",
    "        result = ''\n",
    "        node = self.head\n",
    "        while node:\n",
    "            result += ' %s' % node\n",
    "            node = node.next\n",
    "        return result\n",
    "\n",
    "    def add(self, node):\n",
    "        \"\"\"Add a Node to the back of the LL.\"\"\"\n",
    "        if not self.head:\n",
    "            self.head = node\n",
    "        if self.tail:\n",
    "            self.tail.next = node\n",
    "        self.tail = node\n",
    "\n",
    "    def remove(self, target_node):\n",
    "        \"\"\"Remove a Node instance from the list.\"\"\"\n",
    "        if target_node == self.head:\n",
    "            self.head = self.head.next\n",
    "            return\n",
    "        previous_node = self.head\n",
    "        current_node = self.head.next\n",
    "        while current_node:\n",
    "            if current_node == target_node:\n",
    "                previous_node.next = current_node.next\n",
    "                return\n",
    "            previous_node = current_node\n",
    "            current_node = current_node.next\n",
    "        raise ValueError\n",
    "\n",
    "\n",
    "# Instantiate.\n",
    "linked_list = LinkedList()\n",
    "node1 = Node(1)\n",
    "node2 = Node(2)\n",
    "node3 = Node(3)\n",
    "node4 = Node(4)\n",
    "\n",
    "# Add.\n",
    "linked_list.add(node1)\n",
    "linked_list.add(node2)\n",
    "linked_list.add(node3)\n",
    "linked_list.add(node4)\n",
    "print (linked_list)\n",
    "#   Node 1 Node 2 Node 3 Node 4\n",
    "\n",
    "# Remove.\n",
    "linked_list.remove(node3)\n",
    "print (linked_list)\n",
    "#   Node 1 Node 2 Node 4\n",
    "linked_list.remove(node1)\n",
    "print (linked_list)\n",
    "#   Node 2 Node 4"
   ]
  },
  {
   "cell_type": "code",
   "execution_count": null,
   "metadata": {
    "collapsed": true
   },
   "outputs": [],
   "source": []
  }
 ],
 "metadata": {
  "kernelspec": {
   "display_name": "Python 3",
   "language": "python",
   "name": "python3"
  },
  "language_info": {
   "codemirror_mode": {
    "name": "ipython",
    "version": 3
   },
   "file_extension": ".py",
   "mimetype": "text/x-python",
   "name": "python",
   "nbconvert_exporter": "python",
   "pygments_lexer": "ipython3",
   "version": "3.6.3"
  }
 },
 "nbformat": 4,
 "nbformat_minor": 2
}
